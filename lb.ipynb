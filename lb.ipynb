{
 "cells": [
  {
   "cell_type": "code",
   "execution_count": 6,
   "metadata": {},
   "outputs": [],
   "source": [
    "import numpy as np\n",
    "import glob\n",
    "from sklearn.model_selection import StratifiedKFold"
   ]
  },
  {
   "cell_type": "code",
   "execution_count": 2,
   "metadata": {},
   "outputs": [
    {
     "name": "stdout",
     "output_type": "stream",
     "text": [
      "starting loading\n",
      "Loading  ./Data/normal_ex_method_0.csv\n",
      "(108876, 462)\n"
     ]
    }
   ],
   "source": [
    "path = './'\n",
    "print(\"starting loading\")\n",
    "channel_1_data = np.empty(shape=[0, 462])\n",
    "\n",
    "c1_data = glob.glob(path+'Data/normal_ex_method_0.csv')\n",
    "\n",
    "for j in c1_data:\n",
    "    print('Loading ', j)\n",
    "    csvrows = np.loadtxt(j, delimiter=',')\n",
    "    channel_1_data = np.append(channel_1_data, csvrows, axis=0)\n",
    "\n",
    "print(channel_1_data.shape)"
   ]
  },
  {
   "cell_type": "code",
   "execution_count": 3,
   "metadata": {},
   "outputs": [
    {
     "name": "stdout",
     "output_type": "stream",
     "text": [
      "Loading  ./Data/normal_ex_method_1.csv\n",
      "(108876, 462)\n"
     ]
    }
   ],
   "source": [
    "channel_2_data = np.empty(shape=[0, 462])\n",
    "\n",
    "c2_data = glob.glob('./Data/normal_ex_method_1.csv')\n",
    "\n",
    "for j in c2_data:\n",
    "    print('Loading ', j)\n",
    "    csvrows = np.loadtxt(j, delimiter=',')\n",
    "    channel_2_data = np.append(channel_2_data, csvrows, axis=0)\n",
    "\n",
    "print(channel_2_data.shape)"
   ]
  },
  {
   "cell_type": "code",
   "execution_count": 4,
   "metadata": {},
   "outputs": [],
   "source": [
    "X = np.concatenate((channel_1_data[:,:-2],channel_2_data[:,:-2]), axis=1)\n",
    "y = channel_1_data[:,-2]\n"
   ]
  },
  {
   "cell_type": "code",
   "execution_count": 10,
   "metadata": {},
   "outputs": [
    {
     "name": "stdout",
     "output_type": "stream",
     "text": [
      "(10888,)\n",
      "(10888,)\n",
      "(10888,)\n",
      "(10888,)\n",
      "(10888,)\n",
      "(10888,)\n",
      "(10887,)\n",
      "(10887,)\n",
      "(10887,)\n",
      "(10887,)\n"
     ]
    }
   ],
   "source": [
    "kfold = StratifiedKFold(n_splits=10, shuffle=True, random_state=1)\n",
    "k = 1\n",
    "c1 = []\n",
    "for train_ix, test_ix in kfold.split(X, y):\n",
    "    train_x ,train_y = X[train_ix], y[train_ix]\n",
    "    test_x ,test_y = X[test_ix], y[test_ix]\n",
    "    print(test_y.shape)\n",
    "    c1.append(test_y)"
   ]
  },
  {
   "cell_type": "code",
   "execution_count": 11,
   "metadata": {},
   "outputs": [
    {
     "name": "stdout",
     "output_type": "stream",
     "text": [
      "(10888,)\n",
      "(10888,)\n",
      "(10888,)\n",
      "(10888,)\n",
      "(10888,)\n",
      "(10888,)\n",
      "(10887,)\n",
      "(10887,)\n",
      "(10887,)\n",
      "(10887,)\n"
     ]
    }
   ],
   "source": [
    "kfold = StratifiedKFold(n_splits=10, shuffle=True, random_state=1)\n",
    "k = 1\n",
    "c2 = []\n",
    "for train_ix, test_ix in kfold.split(X, y):\n",
    "    train_x ,train_y = X[train_ix], y[train_ix]\n",
    "    test_x ,test_y = X[test_ix], y[test_ix]\n",
    "    print(test_y.shape)\n",
    "    c2.append(test_y)"
   ]
  },
  {
   "cell_type": "code",
   "execution_count": 22,
   "metadata": {},
   "outputs": [],
   "source": [
    "np.save(\"./eval_data_10k/teset_y\", c1, allow_pickle=True)"
   ]
  },
  {
   "cell_type": "code",
   "execution_count": null,
   "metadata": {},
   "outputs": [],
   "source": []
  }
 ],
 "metadata": {
  "interpreter": {
   "hash": "856187a0edc443155a55b26777a7d7769c24c490f50cbfd18bef7a6f20bd81ad"
  },
  "kernelspec": {
   "display_name": "Python 3.8.12 ('env_ecg')",
   "language": "python",
   "name": "python3"
  },
  "language_info": {
   "codemirror_mode": {
    "name": "ipython",
    "version": 3
   },
   "file_extension": ".py",
   "mimetype": "text/x-python",
   "name": "python",
   "nbconvert_exporter": "python",
   "pygments_lexer": "ipython3",
   "version": "3.8.12"
  },
  "orig_nbformat": 4
 },
 "nbformat": 4,
 "nbformat_minor": 2
}
