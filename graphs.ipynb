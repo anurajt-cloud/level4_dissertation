{
 "cells": [
  {
   "cell_type": "code",
   "execution_count": 1,
   "metadata": {},
   "outputs": [],
   "source": [
    "import numpy as np\n",
    "import os\n",
    "from ECG.eager_ops import expected_gradients as eg\n",
    "import tensorflow as tf"
   ]
  },
  {
   "cell_type": "code",
   "execution_count": 2,
   "metadata": {},
   "outputs": [],
   "source": [
    "path = \"./eval_data_10k/cnn_ph_eg/\""
   ]
  },
  {
   "cell_type": "code",
   "execution_count": 3,
   "metadata": {},
   "outputs": [
    {
     "data": {
      "text/plain": [
       "['cms_cv1.npy',\n",
       " 'cms_cv10.npy',\n",
       " 'cms_cv2.npy',\n",
       " 'cms_cv3.npy',\n",
       " 'cms_cv4.npy',\n",
       " 'cms_cv5.npy',\n",
       " 'cms_cv6.npy',\n",
       " 'cms_cv7.npy',\n",
       " 'cms_cv8.npy',\n",
       " 'cms_cv9.npy',\n",
       " 'history_cv1.npy',\n",
       " 'history_cv10.npy',\n",
       " 'history_cv2.npy',\n",
       " 'history_cv3.npy',\n",
       " 'history_cv4.npy',\n",
       " 'history_cv5.npy',\n",
       " 'history_cv6.npy',\n",
       " 'history_cv7.npy',\n",
       " 'history_cv8.npy',\n",
       " 'history_cv9.npy',\n",
       " 'Model_cv1.h5',\n",
       " 'Model_cv10.h5',\n",
       " 'Model_cv2.h5',\n",
       " 'Model_cv3.h5',\n",
       " 'Model_cv4.h5',\n",
       " 'Model_cv5.h5',\n",
       " 'Model_cv6.h5',\n",
       " 'Model_cv7.h5',\n",
       " 'Model_cv8.h5',\n",
       " 'Model_cv9.h5',\n",
       " 'preds_cv1.npy',\n",
       " 'preds_cv10.npy',\n",
       " 'preds_cv2.npy',\n",
       " 'preds_cv3.npy',\n",
       " 'preds_cv4.npy',\n",
       " 'preds_cv5.npy',\n",
       " 'preds_cv6.npy',\n",
       " 'preds_cv7.npy',\n",
       " 'preds_cv8.npy',\n",
       " 'preds_cv9.npy',\n",
       " 'results_cv1.npy',\n",
       " 'results_cv10.npy',\n",
       " 'results_cv2.npy',\n",
       " 'results_cv3.npy',\n",
       " 'results_cv4.npy',\n",
       " 'results_cv5.npy',\n",
       " 'results_cv6.npy',\n",
       " 'results_cv7.npy',\n",
       " 'results_cv8.npy',\n",
       " 'results_cv9.npy']"
      ]
     },
     "execution_count": 3,
     "metadata": {},
     "output_type": "execute_result"
    }
   ],
   "source": [
    "os.listdir(path)"
   ]
  },
  {
   "cell_type": "code",
   "execution_count": 4,
   "metadata": {},
   "outputs": [],
   "source": [
    "#cv1\n",
    "m_cv1 = tf.keras.models.load_model(path+\"Model_cv1.h5\")\n",
    "preds = np.load(path+\"preds_cv1.npy\")"
   ]
  },
  {
   "cell_type": "code",
   "execution_count": 12,
   "metadata": {},
   "outputs": [],
   "source": [
    "test_y = np.load(\"./eval_data_10k/teset_y.npy\", allow_pickle=True)\n",
    "test_x = np.load(\"./eval_data_10k/teset_x.npy\", allow_pickle=True)"
   ]
  },
  {
   "cell_type": "code",
   "execution_count": 31,
   "metadata": {},
   "outputs": [],
   "source": [
    "att = eg(inputs=test_x[0].reshape(-1, test_x[0].shape[1], 1).astype(np.float32), labels=tf.keras.utils.to_categorical(test_y[0].astype(np.float32)), model=m_cv1)"
   ]
  },
  {
   "cell_type": "code",
   "execution_count": null,
   "metadata": {},
   "outputs": [
    {
     "data": {
      "text/plain": [
       "(10888, 9)"
      ]
     },
     "execution_count": 18,
     "metadata": {},
     "output_type": "execute_result"
    }
   ],
   "source": [
    "tf.keras.utils.to_categorical(test_y[0]).shape"
   ]
  },
  {
   "cell_type": "code",
   "execution_count": 29,
   "metadata": {},
   "outputs": [
    {
     "ename": "IndexError",
     "evalue": "tuple index out of range",
     "output_type": "error",
     "traceback": [
      "\u001b[1;31m---------------------------------------------------------------------------\u001b[0m",
      "\u001b[1;31mIndexError\u001b[0m                                Traceback (most recent call last)",
      "\u001b[1;32md:\\CURRENT-WORKING-STATE\\Year 4\\INDIVIDUAL_PROJECT\\GIT\\level_4_dissertation\\graphs.ipynb Cell 8'\u001b[0m in \u001b[0;36m<cell line: 1>\u001b[1;34m()\u001b[0m\n\u001b[1;32m----> <a href='vscode-notebook-cell:/d%3A/CURRENT-WORKING-STATE/Year%204/INDIVIDUAL_PROJECT/GIT/level_4_dissertation/graphs.ipynb#ch0000008?line=0'>1</a>\u001b[0m test_x\u001b[39m.\u001b[39mreshape(\u001b[39m-\u001b[39m\u001b[39m1\u001b[39m, test_x\u001b[39m.\u001b[39;49mshape[\u001b[39m1\u001b[39;49m], \u001b[39m1\u001b[39m)\u001b[39m.\u001b[39mastype(np\u001b[39m.\u001b[39mfloat32)\n",
      "\u001b[1;31mIndexError\u001b[0m: tuple index out of range"
     ]
    }
   ],
   "source": [
    "test_x.reshape(-1, test_x.shape[1], 1).astype(np.float32)"
   ]
  },
  {
   "cell_type": "code",
   "execution_count": null,
   "metadata": {},
   "outputs": [],
   "source": []
  }
 ],
 "metadata": {
  "interpreter": {
   "hash": "856187a0edc443155a55b26777a7d7769c24c490f50cbfd18bef7a6f20bd81ad"
  },
  "kernelspec": {
   "display_name": "Python 3.8.12 ('env_ecg')",
   "language": "python",
   "name": "python3"
  },
  "language_info": {
   "codemirror_mode": {
    "name": "ipython",
    "version": 3
   },
   "file_extension": ".py",
   "mimetype": "text/x-python",
   "name": "python",
   "nbconvert_exporter": "python",
   "pygments_lexer": "ipython3",
   "version": "3.8.12"
  },
  "orig_nbformat": 4
 },
 "nbformat": 4,
 "nbformat_minor": 2
}
