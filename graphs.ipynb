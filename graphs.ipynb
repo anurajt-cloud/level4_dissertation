{
 "cells": [
  {
   "cell_type": "code",
   "execution_count": 4,
   "metadata": {},
   "outputs": [],
   "source": [
    "import numpy as np\n",
    "import os\n",
    "from ECG.eager_ops import expected_gradients as eg\n",
    "import tensorflow as tf"
   ]
  },
  {
   "cell_type": "code",
   "execution_count": 2,
   "metadata": {},
   "outputs": [],
   "source": [
    "path = \"./eval_data_10k/cnn_ph_eg/\""
   ]
  },
  {
   "cell_type": "code",
   "execution_count": 3,
   "metadata": {},
   "outputs": [
    {
     "data": {
      "text/plain": [
       "['cms_cv1.npy',\n",
       " 'cms_cv10.npy',\n",
       " 'cms_cv2.npy',\n",
       " 'cms_cv3.npy',\n",
       " 'cms_cv4.npy',\n",
       " 'cms_cv5.npy',\n",
       " 'cms_cv6.npy',\n",
       " 'cms_cv7.npy',\n",
       " 'cms_cv8.npy',\n",
       " 'cms_cv9.npy',\n",
       " 'cnn_cms.npy',\n",
       " 'cnn_history.npy',\n",
       " 'cnn_modelpreds.npy',\n",
       " 'cnn_results.npy',\n",
       " 'history_cv1.npy',\n",
       " 'history_cv10.npy',\n",
       " 'history_cv2.npy',\n",
       " 'history_cv3.npy',\n",
       " 'history_cv4.npy',\n",
       " 'history_cv5.npy',\n",
       " 'history_cv6.npy',\n",
       " 'history_cv7.npy',\n",
       " 'history_cv8.npy',\n",
       " 'history_cv9.npy',\n",
       " 'Model_cv1.h5',\n",
       " 'Model_cv10.h5',\n",
       " 'Model_cv2.h5',\n",
       " 'Model_cv3.h5',\n",
       " 'Model_cv4.h5',\n",
       " 'Model_cv5.h5',\n",
       " 'Model_cv6.h5',\n",
       " 'Model_cv7.h5',\n",
       " 'Model_cv8.h5',\n",
       " 'Model_cv9.h5',\n",
       " 'preds_cv1.npy',\n",
       " 'preds_cv10.npy',\n",
       " 'preds_cv2.npy',\n",
       " 'preds_cv3.npy',\n",
       " 'preds_cv4.npy',\n",
       " 'preds_cv5.npy',\n",
       " 'preds_cv6.npy',\n",
       " 'preds_cv7.npy',\n",
       " 'preds_cv8.npy',\n",
       " 'preds_cv9.npy',\n",
       " 'results_cv1.npy',\n",
       " 'results_cv10.npy',\n",
       " 'results_cv2.npy',\n",
       " 'results_cv3.npy',\n",
       " 'results_cv4.npy',\n",
       " 'results_cv5.npy',\n",
       " 'results_cv6.npy',\n",
       " 'results_cv7.npy',\n",
       " 'results_cv8.npy',\n",
       " 'results_cv9.npy']"
      ]
     },
     "execution_count": 3,
     "metadata": {},
     "output_type": "execute_result"
    }
   ],
   "source": [
    "os.listdir(path)"
   ]
  },
  {
   "cell_type": "code",
   "execution_count": 6,
   "metadata": {},
   "outputs": [],
   "source": [
    "#cv1\n",
    "m_cv1 = tf.keras.models.load_model(path+\"Model_cv1.h5\")\n",
    "preds = np.load(path+\"preds_cv1.npy\")"
   ]
  },
  {
   "cell_type": "code",
   "execution_count": 7,
   "metadata": {},
   "outputs": [
    {
     "data": {
      "text/plain": [
       "array([7, 1, 1, ..., 1, 1, 1], dtype=int64)"
      ]
     },
     "execution_count": 7,
     "metadata": {},
     "output_type": "execute_result"
    }
   ],
   "source": [
    "preds"
   ]
  },
  {
   "cell_type": "code",
   "execution_count": null,
   "metadata": {},
   "outputs": [],
   "source": []
  }
 ],
 "metadata": {
  "interpreter": {
   "hash": "856187a0edc443155a55b26777a7d7769c24c490f50cbfd18bef7a6f20bd81ad"
  },
  "kernelspec": {
   "display_name": "Python 3.8.12 ('env_ecg')",
   "language": "python",
   "name": "python3"
  },
  "language_info": {
   "codemirror_mode": {
    "name": "ipython",
    "version": 3
   },
   "file_extension": ".py",
   "mimetype": "text/x-python",
   "name": "python",
   "nbconvert_exporter": "python",
   "pygments_lexer": "ipython3",
   "version": "3.8.12"
  },
  "orig_nbformat": 4
 },
 "nbformat": 4,
 "nbformat_minor": 2
}
