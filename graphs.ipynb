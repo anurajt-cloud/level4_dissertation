{
 "cells": [
  {
   "cell_type": "code",
   "execution_count": 3,
   "metadata": {},
   "outputs": [],
   "source": [
    "import numpy as np\n",
    "import os\n",
    "from ECG.eager_ops import expected_gradients as eg\n",
    "import tensorflow as tf\n",
    "import matplotlib.pyplot as plt\n",
    "import seaborn as sns"
   ]
  },
  {
   "cell_type": "code",
   "execution_count": 4,
   "metadata": {},
   "outputs": [],
   "source": [
    "path = \"./eval_data_10k/\""
   ]
  },
  {
   "cell_type": "code",
   "execution_count": 5,
   "metadata": {},
   "outputs": [
    {
     "data": {
      "text/plain": [
       "['cnn_ph',\n",
       " 'cnn_ph_eg',\n",
       " 'cnn_pl',\n",
       " 'cnn_pl_eg',\n",
       " 'lstm_ph',\n",
       " 'lstm_ph_eg',\n",
       " 'lstm_pl',\n",
       " 'lstm_pl_eg',\n",
       " 'teset_x.npy',\n",
       " 'teset_y.npy']"
      ]
     },
     "execution_count": 5,
     "metadata": {},
     "output_type": "execute_result"
    }
   ],
   "source": [
    "os.listdir(path)"
   ]
  },
  {
   "cell_type": "code",
   "execution_count": 70,
   "metadata": {},
   "outputs": [],
   "source": [
    "# Creating the confusion matrices for PH\n",
    "cnn_ph_cv1 = np.load(path+ph_folders[0]+\"/cms_cv1.npy\")"
   ]
  },
  {
   "cell_type": "code",
   "execution_count": 4,
   "metadata": {},
   "outputs": [],
   "source": [
    "def get_cmss(foldername, tname):\n",
    "    if tname == \"ph\":\n",
    "        cmss = []\n",
    "        for i in range(1,11):\n",
    "            cmss.append(np.load(path+foldername+\"/cms_cv\"+str(i)+\".npy\").reshape(1,8,8))\n",
    "        cmss = np.concatenate(tuple(cmss), axis=0)\n",
    "        return cmss\n",
    "    elif tname == \"pl\":\n",
    "        return np.load(path+foldername+\"/cms.npy\")\n",
    "\n",
    "def get_results(foldername, tname):\n",
    "    if tname == \"ph\":\n",
    "        results = []\n",
    "        for i in range(1,11):\n",
    "            results.append(np.load(path+foldername+\"/results_cv\"+str(i)+\".npy\", allow_pickle=True)[1:6])\n",
    "        return np.stack(tuple(results))\n",
    "    elif tname == \"pl\":\n",
    "        return np.load(path+foldername+\"/results.npy\", allow_pickle=True)\n"
   ]
  },
  {
   "cell_type": "code",
   "execution_count": 5,
   "metadata": {},
   "outputs": [],
   "source": [
    "def make_cm(cmss, name):\n",
    "    categories=['N','L','R','V','A','F','f','/']\n",
    "    plt.figure(figsize=(10,7))\n",
    "    sns.heatmap(cmss.mean(axis=0), annot=True, xticklabels=categories, yticklabels=categories)\n",
    "    plt.title(name)\n",
    "    plt.show()"
   ]
  },
  {
   "cell_type": "markdown",
   "metadata": {},
   "source": [
    "### Beat Holdout"
   ]
  },
  {
   "cell_type": "code",
   "execution_count": 6,
   "metadata": {},
   "outputs": [],
   "source": [
    "ph_folders = ['cnn_ph','cnn_ph_eg','lstm_ph']"
   ]
  },
  {
   "cell_type": "code",
   "execution_count": 79,
   "metadata": {},
   "outputs": [],
   "source": [
    "# a = get_cmss(\"cnn_ph\", \"ph\")\n",
    "# b = get_cmss(\"lstm_ph\", \"ph\")\n",
    "# c = get_cmss('cnn_ph_eg', \"ph\")\n",
    "# d = get_cmss('cnn_ph_eg', \"ph\")\n",
    "# make_cm(a, \"CNN - Beat holdout Confusion Matrix\")\n",
    "# make_cm(b, \"LSTM - Beat holdout Confusion Matrix\")\n",
    "# make_cm(c, \"CNN - Beat holdout with ECG Confusion Matrix\")\n",
    "# make_cm(d, \"LSTM - Beat holdout with ECG Confusion Matrix\")"
   ]
  },
  {
   "cell_type": "markdown",
   "metadata": {},
   "source": [
    "### Patient Leave-out"
   ]
  },
  {
   "cell_type": "code",
   "execution_count": null,
   "metadata": {},
   "outputs": [],
   "source": [
    "pl_folders = ['cnn_pl','cnn_pl_eg','lstm_pl','lstm_pl_eg']"
   ]
  },
  {
   "cell_type": "code",
   "execution_count": 110,
   "metadata": {},
   "outputs": [],
   "source": [
    "# e = get_cmss(\"cnn_pl\", \"pl\")\n",
    "# f = get_cmss(\"lstm_pl\", \"pl\")\n",
    "# g = get_cmss('cnn_pl_eg', \"pl\")\n",
    "# h = get_cmss('lstm_pl_eg', \"pl\")\n",
    "\n",
    "# make_cm(e, \"CNN - Patient leaveout Confusion Matrix\")\n",
    "# make_cm(g, \"CNN - Patient leaveout with ECG Confusion Matrix\")\n",
    "# make_cm(f, \"LSTM - Patient leaveout Confusion Matrix\")\n",
    "# make_cm(h, \"LSTM - Patient leaveout with ECG Confusion Matrix\")"
   ]
  },
  {
   "cell_type": "code",
   "execution_count": 7,
   "metadata": {},
   "outputs": [
    {
     "name": "stdout",
     "output_type": "stream",
     "text": [
      "[0.828 0.413 0.484 0.434 0.828]\n",
      "[0.81 0.446 0.472 0.428 0.81]\n",
      "[0.631 0.381 0.337 0.294 0.631]\n",
      "[0.655 0.386 0.309 0.279 0.655]\n"
     ]
    }
   ],
   "source": [
    "d_r = get_results(\"cnn_pl\", \"pl\")\n",
    "e_r = get_results(\"lstm_pl\", \"pl\")\n",
    "f_r = get_results('cnn_pl_eg', \"pl\")\n",
    "g_r = get_results('lstm_pl_eg', \"pl\")\n",
    "print(d_r[3][1:6])\n",
    "print(f_r[0][1:6])\n",
    "print(e_r[0][1:6])\n",
    "print(g_r[0][1:6])"
   ]
  },
  {
   "cell_type": "code",
   "execution_count": 6,
   "metadata": {},
   "outputs": [],
   "source": [
    "# Calculating attribution loss\n",
    "def eg_att(foldername, tname):\n",
    "    test_y = np.load(\"./eval_data_10k/teset_y.npy\", allow_pickle=True)\n",
    "    test_x = np.load(\"./eval_data_10k/teset_x.npy\", allow_pickle=True)\n",
    "    if tname==\"ph\":\n",
    "        models = []\n",
    "        attributions = []\n",
    "        for i in range(1,11):\n",
    "            m = tf.keras.models.load_model(path+foldername+\"/Model_cv\"+str(i)+\".h5\")\n",
    "            att = eg(inputs=tf.convert_to_tensor(test_x[i-1].reshape(-1, test_x[i-1].shape[1], 1).astype(np.float32)), labels=tf.keras.utils.to_categorical(test_y[i-1].astype(np.float32)), model=m)\n",
    "            print(i, test_x[i-1].shape, test_y[i-1].shape, att.shape)\n",
    "            break\n",
    "    # elif tname==\"pl\":\n",
    "\n",
    "eg_att(\"cnn_ph_eg\", \"ph\")\n"
   ]
  },
  {
   "cell_type": "code",
   "execution_count": null,
   "metadata": {},
   "outputs": [
    {
     "ename": "NameError",
     "evalue": "name 'tf' is not defined",
     "output_type": "error",
     "traceback": [
      "\u001b[1;31m---------------------------------------------------------------------------\u001b[0m",
      "\u001b[1;31mNameError\u001b[0m                                 Traceback (most recent call last)",
      "\u001b[1;32m<ipython-input-2-e7bca8c9c9da>\u001b[0m in \u001b[0;36m<module>\u001b[1;34m\u001b[0m\n\u001b[0;32m      1\u001b[0m \u001b[1;31m# #cv1\u001b[0m\u001b[1;33m\u001b[0m\u001b[1;33m\u001b[0m\u001b[1;33m\u001b[0m\u001b[0m\n\u001b[1;32m----> 2\u001b[1;33m \u001b[0mm_cv1\u001b[0m \u001b[1;33m=\u001b[0m \u001b[0mtf\u001b[0m\u001b[1;33m.\u001b[0m\u001b[0mkeras\u001b[0m\u001b[1;33m.\u001b[0m\u001b[0mmodels\u001b[0m\u001b[1;33m.\u001b[0m\u001b[0mload_model\u001b[0m\u001b[1;33m(\u001b[0m\u001b[0mpath\u001b[0m\u001b[1;33m+\u001b[0m\u001b[1;34m\"cnn_ph_eg\"\u001b[0m\u001b[1;33m+\u001b[0m\u001b[1;34m\"/Model_cv1.h5\"\u001b[0m\u001b[1;33m)\u001b[0m\u001b[1;33m\u001b[0m\u001b[1;33m\u001b[0m\u001b[0m\n\u001b[0m",
      "\u001b[1;31mNameError\u001b[0m: name 'tf' is not defined"
     ]
    }
   ],
   "source": [
    "# #cv1\n",
    "m_cv1 = tf.keras.models.load_model(path+\"cnn_ph_eg\"+\"/Model_cv1.h5\")"
   ]
  },
  {
   "cell_type": "code",
   "execution_count": null,
   "metadata": {},
   "outputs": [],
   "source": [
    "test_y = np.load(\"./eval_data_10k/teset_y.npy\", allow_pickle=True)\n",
    "test_x = np.load(\"./eval_data_10k/teset_x.npy\", allow_pickle=True)"
   ]
  },
  {
   "cell_type": "code",
   "execution_count": null,
   "metadata": {},
   "outputs": [],
   "source": [
    "att = eg(inputs=test_x[0].reshape(-1, test_x[0].shape[1], 1).astype(np.float32), labels=tf.keras.utils.to_categorical(test_y[0].astype(np.float32)), model=m_cv1)"
   ]
  },
  {
   "cell_type": "code",
   "execution_count": null,
   "metadata": {},
   "outputs": [
    {
     "data": {
      "text/plain": [
       "(10888, 9)"
      ]
     },
     "execution_count": 18,
     "metadata": {},
     "output_type": "execute_result"
    }
   ],
   "source": [
    "tf.keras.utils.to_categorical(test_y[0]).shape"
   ]
  },
  {
   "cell_type": "code",
   "execution_count": null,
   "metadata": {},
   "outputs": [
    {
     "ename": "IndexError",
     "evalue": "tuple index out of range",
     "output_type": "error",
     "traceback": [
      "\u001b[1;31m---------------------------------------------------------------------------\u001b[0m",
      "\u001b[1;31mIndexError\u001b[0m                                Traceback (most recent call last)",
      "\u001b[1;32md:\\CURRENT-WORKING-STATE\\Year 4\\INDIVIDUAL_PROJECT\\GIT\\level_4_dissertation\\graphs.ipynb Cell 8'\u001b[0m in \u001b[0;36m<cell line: 1>\u001b[1;34m()\u001b[0m\n\u001b[1;32m----> <a href='vscode-notebook-cell:/d%3A/CURRENT-WORKING-STATE/Year%204/INDIVIDUAL_PROJECT/GIT/level_4_dissertation/graphs.ipynb#ch0000008?line=0'>1</a>\u001b[0m test_x\u001b[39m.\u001b[39mreshape(\u001b[39m-\u001b[39m\u001b[39m1\u001b[39m, test_x\u001b[39m.\u001b[39;49mshape[\u001b[39m1\u001b[39;49m], \u001b[39m1\u001b[39m)\u001b[39m.\u001b[39mastype(np\u001b[39m.\u001b[39mfloat32)\n",
      "\u001b[1;31mIndexError\u001b[0m: tuple index out of range"
     ]
    }
   ],
   "source": [
    "test_x.reshape(-1, test_x.shape[1], 1).astype(np.float32)"
   ]
  },
  {
   "cell_type": "code",
   "execution_count": null,
   "metadata": {},
   "outputs": [],
   "source": []
  }
 ],
 "metadata": {
  "interpreter": {
   "hash": "3ad3a160dbec8171a4c5fb2605380c0e08a4026dd895b943cd2f051981903870"
  },
  "kernelspec": {
   "display_name": "Python 3.8.10 64-bit ('ecg': conda)",
   "name": "python3"
  },
  "language_info": {
   "codemirror_mode": {
    "name": "ipython",
    "version": 3
   },
   "file_extension": ".py",
   "mimetype": "text/x-python",
   "name": "python",
   "nbconvert_exporter": "python",
   "pygments_lexer": "ipython3",
   "version": "3.8.10"
  },
  "orig_nbformat": 4
 },
 "nbformat": 4,
 "nbformat_minor": 2
}
