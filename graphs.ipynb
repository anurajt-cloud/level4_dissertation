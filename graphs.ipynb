{
 "cells": [
  {
   "cell_type": "code",
   "execution_count": 1,
   "metadata": {},
   "outputs": [],
   "source": [
    "import numpy as np\n",
    "import os\n",
    "from ECG.eager_ops import expected_gradients as eg\n",
    "import tensorflow as tf\n",
    "import matplotlib.pyplot as plt\n",
    "import seaborn as sns"
   ]
  },
  {
   "cell_type": "code",
   "execution_count": 2,
   "metadata": {},
   "outputs": [],
   "source": [
    "path = \"./eval_data_10k/\""
   ]
  },
  {
   "cell_type": "code",
   "execution_count": 5,
   "metadata": {},
   "outputs": [
    {
     "data": {
      "text/plain": [
       "['cnn_ph',\n",
       " 'cnn_ph_eg',\n",
       " 'cnn_pl',\n",
       " 'cnn_pl_eg',\n",
       " 'lstm_ph',\n",
       " 'lstm_ph_eg',\n",
       " 'lstm_pl',\n",
       " 'lstm_pl_eg',\n",
       " 'teset_x.npy',\n",
       " 'teset_y.npy']"
      ]
     },
     "execution_count": 5,
     "metadata": {},
     "output_type": "execute_result"
    }
   ],
   "source": [
    "os.listdir(path)"
   ]
  },
  {
   "cell_type": "code",
   "execution_count": 70,
   "metadata": {},
   "outputs": [],
   "source": [
    "# Creating the confusion matrices for PH\n",
    "cnn_ph_cv1 = np.load(path+ph_folders[0]+\"/cms_cv1.npy\")"
   ]
  },
  {
   "cell_type": "code",
   "execution_count": 4,
   "metadata": {},
   "outputs": [],
   "source": [
    "def get_cmss(foldername, tname):\n",
    "    if tname == \"ph\":\n",
    "        cmss = []\n",
    "        for i in range(1,11):\n",
    "            cmss.append(np.load(path+foldername+\"/cms_cv\"+str(i)+\".npy\").reshape(1,8,8))\n",
    "        cmss = np.concatenate(tuple(cmss), axis=0)\n",
    "        return cmss\n",
    "    elif tname == \"pl\":\n",
    "        return np.load(path+foldername+\"/cms.npy\")\n",
    "\n",
    "def get_results(foldername, tname):\n",
    "    if tname == \"ph\":\n",
    "        results = []\n",
    "        for i in range(1,11):\n",
    "            results.append(np.load(path+foldername+\"/results_cv\"+str(i)+\".npy\", allow_pickle=True)[1:6])\n",
    "        return np.stack(tuple(results))\n",
    "    elif tname == \"pl\":\n",
    "        return np.load(path+foldername+\"/results.npy\", allow_pickle=True)\n"
   ]
  },
  {
   "cell_type": "code",
   "execution_count": 5,
   "metadata": {},
   "outputs": [],
   "source": [
    "def make_cm(cmss, name):\n",
    "    categories=['N','L','R','V','A','F','f','/']\n",
    "    plt.figure(figsize=(10,7))\n",
    "    sns.heatmap(cmss.mean(axis=0), annot=True, xticklabels=categories, yticklabels=categories)\n",
    "    plt.title(name)\n",
    "    plt.show()"
   ]
  },
  {
   "cell_type": "markdown",
   "metadata": {},
   "source": [
    "### Beat Holdout"
   ]
  },
  {
   "cell_type": "code",
   "execution_count": 6,
   "metadata": {},
   "outputs": [],
   "source": [
    "ph_folders = ['cnn_ph','cnn_ph_eg','lstm_ph']"
   ]
  },
  {
   "cell_type": "code",
   "execution_count": 79,
   "metadata": {},
   "outputs": [],
   "source": [
    "# a = get_cmss(\"cnn_ph\", \"ph\")\n",
    "# b = get_cmss(\"lstm_ph\", \"ph\")\n",
    "# c = get_cmss('cnn_ph_eg', \"ph\")\n",
    "# d = get_cmss('cnn_ph_eg', \"ph\")\n",
    "# make_cm(a, \"CNN - Beat holdout Confusion Matrix\")\n",
    "# make_cm(b, \"LSTM - Beat holdout Confusion Matrix\")\n",
    "# make_cm(c, \"CNN - Beat holdout with ECG Confusion Matrix\")\n",
    "# make_cm(d, \"LSTM - Beat holdout with ECG Confusion Matrix\")"
   ]
  },
  {
   "cell_type": "markdown",
   "metadata": {},
   "source": [
    "### Patient Leave-out"
   ]
  },
  {
   "cell_type": "code",
   "execution_count": null,
   "metadata": {},
   "outputs": [],
   "source": [
    "pl_folders = ['cnn_pl','cnn_pl_eg','lstm_pl','lstm_pl_eg']"
   ]
  },
  {
   "cell_type": "code",
   "execution_count": 110,
   "metadata": {},
   "outputs": [],
   "source": [
    "# e = get_cmss(\"cnn_pl\", \"pl\")\n",
    "# f = get_cmss(\"lstm_pl\", \"pl\")\n",
    "# g = get_cmss('cnn_pl_eg', \"pl\")\n",
    "# h = get_cmss('lstm_pl_eg', \"pl\")\n",
    "\n",
    "# make_cm(e, \"CNN - Patient leaveout Confusion Matrix\")\n",
    "# make_cm(g, \"CNN - Patient leaveout with ECG Confusion Matrix\")\n",
    "# make_cm(f, \"LSTM - Patient leaveout Confusion Matrix\")\n",
    "# make_cm(h, \"LSTM - Patient leaveout with ECG Confusion Matrix\")"
   ]
  },
  {
   "cell_type": "code",
   "execution_count": 7,
   "metadata": {},
   "outputs": [
    {
     "name": "stdout",
     "output_type": "stream",
     "text": [
      "[0.828 0.413 0.484 0.434 0.828]\n",
      "[0.81 0.446 0.472 0.428 0.81]\n",
      "[0.631 0.381 0.337 0.294 0.631]\n",
      "[0.655 0.386 0.309 0.279 0.655]\n"
     ]
    }
   ],
   "source": [
    "d_r = get_results(\"cnn_pl\", \"pl\")\n",
    "e_r = get_results(\"lstm_pl\", \"pl\")\n",
    "f_r = get_results('cnn_pl_eg', \"pl\")\n",
    "g_r = get_results('lstm_pl_eg', \"pl\")\n",
    "print(d_r[3][1:6])\n",
    "print(f_r[0][1:6])\n",
    "print(e_r[0][1:6])\n",
    "print(g_r[0][1:6])"
   ]
  },
  {
   "cell_type": "code",
   "execution_count": 11,
   "metadata": {},
   "outputs": [],
   "source": [
    "def cal_eg(m, dx, dy): \n",
    "  test_d = tf.data.Dataset.from_tensor_slices((dx,dy))\n",
    "  test_d = test_d.batch(200)\n",
    "  att = None\n",
    "  for i, (x_batch, y_batch) in enumerate(test_d):\n",
    "    if i==0:\n",
    "        att = eg(inputs=x_batch, labels=y_batch, model=m)\n",
    "    else:\n",
    "        att = np.append(att,eg(inputs=x_batch, labels=y_batch, model=m),axis=0)\n",
    "  return att\n",
    "\n",
    "def eg_att(foldername, tname):\n",
    "    if tname==\"ph\":\n",
    "        test_y = np.load(\"./eval_data_10k/teset_y.npy\", allow_pickle=True)\n",
    "        test_x = np.load(\"./eval_data_10k/teset_x.npy\", allow_pickle=True)\n",
    "        attributions = []\n",
    "        for i in range(1,11):\n",
    "            m = tf.keras.models.load_model(path+foldername+\"/Model_cv\"+str(i)+\".h5\")\n",
    "            dx = test_x[i-1].reshape(-1, test_x[i-1].shape[1], 1).astype(np.float32)\n",
    "            dy = tf.keras.utils.to_categorical(test_y[i-1].astype(np.float32))\n",
    "            attributions.append(cal_eg(m, dx, dy))\n",
    "        return attributions\n",
    "    elif tname==\"pl\":\n",
    "        test_c0 = np.genfromtxt('./Data/test_patients_fc.csv', delimiter=',')\n",
    "        test_c1 = np.genfromtxt('./Data/test_patients_sc.csv', delimiter=',')\n",
    "        test_x_c01 = np.concatenate((test_c0[:, :-2], test_c1[:, :-2]), axis=1)\n",
    "        test_y_c01 = np.concatenate((test_c0[:, -2:], test_c0[:, -2:]), axis=1)\n",
    "        dx = test_x_c01.reshape(-1, test_x_c01.shape[1], 1).astype('float32')\n",
    "        dy = tf.keras.utils.to_categorical(test_y_c01[:,0])\n",
    "        m = tf.keras.models.load_model(path+foldername+\"/Model0.h5\")\n",
    "        return cal_eg(m, dx, dy)"
   ]
  },
  {
   "cell_type": "code",
   "execution_count": 9,
   "metadata": {},
   "outputs": [
    {
     "name": "stdout",
     "output_type": "stream",
     "text": [
      "(9902, 9) (9902, 920, 1)\n"
     ]
    }
   ],
   "source": [
    "test_c0 = np.genfromtxt('./Data/test_patients_fc.csv', delimiter=',')\n",
    "test_c1 = np.genfromtxt('./Data/test_patients_sc.csv', delimiter=',')\n",
    "test_x_c01 = np.concatenate((test_c0[:, :-2], test_c1[:, :-2]), axis=1)\n",
    "test_y_c01 = np.concatenate((test_c0[:, -2:], test_c0[:, -2:]), axis=1)\n",
    "dx = test_x_c01.reshape(-1, test_x_c01.shape[1], 1).astype('float32')\n",
    "dy = tf.keras.utils.to_categorical(test_y_c01[:,0])\n",
    "print(dy.shape, dx.shape)"
   ]
  },
  {
   "cell_type": "code",
   "execution_count": 14,
   "metadata": {},
   "outputs": [
    {
     "data": {
      "text/plain": [
       "(9902, 920, 1)"
      ]
     },
     "execution_count": 14,
     "metadata": {},
     "output_type": "execute_result"
    }
   ],
   "source": [
    "m = tf.keras.models.load_model(path+\"cnn_pl\"+\"/Model0.h5\")\n",
    "cal_eg(m, dx, dy).shape"
   ]
  },
  {
   "cell_type": "code",
   "execution_count": null,
   "metadata": {},
   "outputs": [],
   "source": []
  }
 ],
 "metadata": {
  "interpreter": {
   "hash": "3ad3a160dbec8171a4c5fb2605380c0e08a4026dd895b943cd2f051981903870"
  },
  "kernelspec": {
   "display_name": "Python 3.8.10 64-bit ('ecg': conda)",
   "name": "python3"
  },
  "language_info": {
   "codemirror_mode": {
    "name": "ipython",
    "version": 3
   },
   "file_extension": ".py",
   "mimetype": "text/x-python",
   "name": "python",
   "nbconvert_exporter": "python",
   "pygments_lexer": "ipython3",
   "version": "3.8.10"
  },
  "orig_nbformat": 4
 },
 "nbformat": 4,
 "nbformat_minor": 2
}
