{
 "cells": [
  {
   "cell_type": "code",
   "execution_count": 1,
   "metadata": {},
   "outputs": [],
   "source": [
    "import numpy as np"
   ]
  },
  {
   "cell_type": "code",
   "execution_count": 3,
   "metadata": {},
   "outputs": [],
   "source": [
    "path = \"./cnn_ph_eg/\"\n",
    "\n",
    "a = np.load(path+\"results_cv6.npy\", allow_pickle=True)"
   ]
  },
  {
   "cell_type": "code",
   "execution_count": 4,
   "metadata": {},
   "outputs": [
    {
     "data": {
      "text/plain": [
       "array(['Model_cv6', 0.899, 0.746, 0.945, 0.799, 0.899,\n",
       "       array([[6525,   53,    8,   78,  648,   44,  144,    5],\n",
       "       [   1,  795,    0,   11,    0,    0,    1,    0],\n",
       "       [   3,    0,  697,    0,   26,    0,    0,    0],\n",
       "       [   6,    6,    4,  664,   11,   13,    8,    1],\n",
       "       [   9,    1,    0,    4,  241,    0,    0,    0],\n",
       "       [   4,    1,    0,    4,    0,   71,    0,    0],\n",
       "       [   0,    0,    0,    0,    1,    0,   97,    0],\n",
       "       [   0,    2,    0,    2,    0,    0,    2,  697]], dtype=int64)],\n",
       "      dtype=object)"
      ]
     },
     "execution_count": 4,
     "metadata": {},
     "output_type": "execute_result"
    }
   ],
   "source": [
    "a"
   ]
  },
  {
   "cell_type": "code",
   "execution_count": null,
   "metadata": {},
   "outputs": [],
   "source": []
  }
 ],
 "metadata": {
  "interpreter": {
   "hash": "856187a0edc443155a55b26777a7d7769c24c490f50cbfd18bef7a6f20bd81ad"
  },
  "kernelspec": {
   "display_name": "Python 3.8.12 ('env_ecg')",
   "language": "python",
   "name": "python3"
  },
  "language_info": {
   "codemirror_mode": {
    "name": "ipython",
    "version": 3
   },
   "file_extension": ".py",
   "mimetype": "text/x-python",
   "name": "python",
   "nbconvert_exporter": "python",
   "pygments_lexer": "ipython3",
   "version": "3.8.12"
  },
  "orig_nbformat": 4
 },
 "nbformat": 4,
 "nbformat_minor": 2
}
