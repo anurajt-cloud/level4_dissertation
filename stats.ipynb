{
 "cells": [
  {
   "cell_type": "code",
   "execution_count": 1,
   "metadata": {},
   "outputs": [],
   "source": [
    "import numpy as np\n",
    "from scipy.stats import *\n",
    "import matplotlib.pyplot as plt\n",
    "import seaborn as sns\n",
    "import pandas as pd"
   ]
  },
  {
   "cell_type": "code",
   "execution_count": 2,
   "metadata": {},
   "outputs": [],
   "source": [
    "path = \"./eval_data_10k/\""
   ]
  },
  {
   "cell_type": "code",
   "execution_count": 3,
   "metadata": {},
   "outputs": [],
   "source": [
    "def get_results(foldername, tname):\n",
    "    if tname == \"ph\":\n",
    "        results = []\n",
    "        for i in range(1,11):\n",
    "            results.append(np.load(path+foldername+\"/results_cv\"+str(i)+\".npy\", allow_pickle=True)[1:6])\n",
    "        return np.stack(tuple(results))\n",
    "    elif tname == \"pl\":\n",
    "        return np.load(path+foldername+\"/results.npy\", allow_pickle=True)[0][1:6]\n"
   ]
  },
  {
   "cell_type": "markdown",
   "metadata": {},
   "source": [
    "### Kruskal Test"
   ]
  },
  {
   "cell_type": "code",
   "execution_count": 4,
   "metadata": {},
   "outputs": [],
   "source": [
    "svc_ph_r = get_results(foldername=\"svc_ph\", tname=\"ph\").T\n",
    "cnn_ph_r = get_results(foldername=\"cnn_ph\", tname=\"ph\").T\n",
    "lstm_ph_r = get_results(foldername=\"lstm_ph\", tname=\"ph\").T\n",
    "cnn_ph_eg_r = get_results(foldername=\"cnn_ph_eg\", tname=\"ph\").T\n",
    "lstm_ph_eg_r = get_results(foldername=\"lstm_ph_eg\", tname=\"ph\").T\n",
    "svc_ph_r[3:]= svc_ph_r[3:].mean(axis=0)\n",
    "cnn_ph_r[3:]= cnn_ph_r[3:].mean(axis=0)\n",
    "lstm_ph_r[3:]= lstm_ph_r[3:].mean(axis=0)\n",
    "cnn_ph_eg_r[3:]= cnn_ph_eg_r[3:].mean(axis=0)\n",
    "lstm_ph_eg_r[3:]= lstm_ph_eg_r[3:].mean(axis=0)"
   ]
  },
  {
   "cell_type": "code",
   "execution_count": 5,
   "metadata": {},
   "outputs": [],
   "source": [
    "kh_test = kruskal(svc_ph_r[:4], cnn_ph_r[:4], lstm_ph_r[:4], cnn_ph_eg_r[:4], lstm_ph_eg_r[:4], axis=1) "
   ]
  },
  {
   "cell_type": "code",
   "execution_count": 6,
   "metadata": {},
   "outputs": [
    {
     "name": "stdout",
     "output_type": "stream",
     "text": [
      "[43.9   43.934 35.958 43.759]\n",
      "[6.72967059e-09 6.62000512e-09 2.95191541e-07 7.19798360e-09]\n"
     ]
    }
   ],
   "source": [
    "print(np.around(kh_test[0], decimals=3))\n",
    "print(kh_test[1])"
   ]
  },
  {
   "cell_type": "code",
   "execution_count": 7,
   "metadata": {},
   "outputs": [],
   "source": [
    "svc_pl_r = get_results(foldername=\"svc_pl\", tname=\"pl\").T\n",
    "cnn_pl_r = get_results(foldername=\"cnn_pl\", tname=\"pl\").T\n",
    "lstm_pl_r = get_results(foldername=\"lstm_pl\", tname=\"pl\").T\n",
    "cnn_pl_eg_r = get_results(foldername=\"cnn_pl_eg\", tname=\"pl\").T\n",
    "lstm_pl_eg_r = get_results(foldername=\"lstm_pl_eg\", tname=\"pl\").T\n",
    "svc_pl_r[3:]= svc_pl_r[3:].mean(axis=0)\n",
    "cnn_pl_r[3:]= cnn_pl_r[3:].mean(axis=0)\n",
    "lstm_pl_r[3:]= lstm_pl_r[3:].mean(axis=0)\n",
    "cnn_pl_eg_r[3:]= cnn_pl_eg_r[3:].mean(axis=0)\n",
    "lstm_pl_eg_r[3:]= lstm_pl_eg_r[3:].mean(axis=0)"
   ]
  },
  {
   "cell_type": "code",
   "execution_count": 8,
   "metadata": {},
   "outputs": [],
   "source": [
    "kh_test_pl = kruskal(svc_pl_r[:4], cnn_pl_r[:4], lstm_pl_r[:4], cnn_pl_eg_r[:4], lstm_pl_eg_r[:4], axis=1) "
   ]
  },
  {
   "cell_type": "code",
   "execution_count": 9,
   "metadata": {},
   "outputs": [
    {
     "data": {
      "text/plain": [
       "KruskalResult(statistic=2.914285714285711, pvalue=0.5722704284139049)"
      ]
     },
     "execution_count": 9,
     "metadata": {},
     "output_type": "execute_result"
    }
   ],
   "source": [
    "kh_test_pl"
   ]
  },
  {
   "cell_type": "markdown",
   "metadata": {},
   "source": [
    "### Wilcoxon Test"
   ]
  },
  {
   "cell_type": "code",
   "execution_count": 10,
   "metadata": {},
   "outputs": [],
   "source": [
    "def wil_test(a):\n",
    "    wil_test_results = []\n",
    "    for i,v in enumerate(a):\n",
    "        wt = []\n",
    "        for k,l in enumerate(a):\n",
    "            wt.append(wilcoxon(v, l, zero_method='zsplit')[1])\n",
    "        wil_test_results.append(wt)\n",
    "    return np.array(wil_test_results, dtype=np.float32)"
   ]
  },
  {
   "cell_type": "code",
   "execution_count": 123,
   "metadata": {},
   "outputs": [],
   "source": [
    "# will_test_cnn_lstm_acc = wil_test([cnn_ph_r[0],lstm_ph_r[0], cnn_ph_eg_r[0], lstm_ph_eg_r[0]])\n",
    "# categories=['CNN','LSTM','CNN_EG','LSTM_EG']\n",
    "# plt.figure(figsize=(10,7), dpi=300)\n",
    "# g = sns.heatmap(will_test_cnn_lstm_acc, annot=True, annot_kws={\"fontsize\":20})\n",
    "# g.set_xticklabels(categories, fontsize=17)\n",
    "# g.set_yticklabels(categories, fontsize=17)\n",
    "# plt.title(\"Wilcoxon Test - Accuracy\")\n",
    "# plt.savefig(\"./images/ph_wil_test_acc\",dpi=300)\n",
    "# plt.show()"
   ]
  },
  {
   "cell_type": "code",
   "execution_count": 122,
   "metadata": {},
   "outputs": [],
   "source": [
    "# will_test_cnn_lstm_f1 = wil_test([cnn_ph_r[3],lstm_ph_r[3], cnn_ph_eg_r[3], lstm_ph_eg_r[3]])\n",
    "# categories=['CNN','LSTM','CNN_EG','LSTM_EG']\n",
    "# plt.figure(figsize=(10,7), dpi=300)\n",
    "# g = sns.heatmap(will_test_cnn_lstm_f1, annot=True, annot_kws={\"fontsize\":20})\n",
    "# g.set_xticklabels(categories, fontsize=17)\n",
    "# g.set_yticklabels(categories, fontsize=17)\n",
    "# plt.title(\"Wilcoxon Test - F1_Score\")\n",
    "# plt.savefig(\"./images/ph_wil_test_f1\",dpi=300)\n",
    "# plt.show()"
   ]
  },
  {
   "cell_type": "code",
   "execution_count": 121,
   "metadata": {},
   "outputs": [],
   "source": [
    "# will_test_cnn_lstm_prec = wil_test([cnn_ph_r[1],lstm_ph_r[1], cnn_ph_eg_r[1], lstm_ph_eg_r[1]])\n",
    "# categories=['CNN','LSTM','CNN_EG','LSTM_EG']\n",
    "# plt.figure(figsize=(10,7), dpi=300)\n",
    "# g = sns.heatmap(will_test_cnn_lstm_prec, annot=True, annot_kws={\"fontsize\":20})\n",
    "# g.set_xticklabels(categories, fontsize=17)\n",
    "# g.set_yticklabels(categories, fontsize=17)\n",
    "# plt.title(\"Wilcoxon Test - Precision\")\n",
    "# plt.savefig(\"./images/ph_wil_test_prec\",dpi=300)\n",
    "# plt.show()"
   ]
  },
  {
   "cell_type": "code",
   "execution_count": 124,
   "metadata": {},
   "outputs": [],
   "source": [
    "# will_test_cnn_lstm_rec = wil_test([cnn_ph_r[2],lstm_ph_r[2], cnn_ph_eg_r[2], lstm_ph_eg_r[2]])\n",
    "# categories=['CNN','LSTM','CNN_EG','LSTM_EG']\n",
    "# plt.figure(figsize=(10,7), dpi=300)\n",
    "# g = sns.heatmap(will_test_cnn_lstm_rec, annot=True, annot_kws={\"fontsize\":20})\n",
    "# g.set_xticklabels(categories, fontsize=17)\n",
    "# g.set_yticklabels(categories, fontsize=17)\n",
    "# plt.title(\"Wilcoxon Test - Recall\")\n",
    "# plt.savefig(\"./images/ph_wil_test_rec\",dpi=300)\n",
    "# plt.show()"
   ]
  },
  {
   "cell_type": "code",
   "execution_count": 11,
   "metadata": {},
   "outputs": [],
   "source": [
    "def normalise_att(att):\n",
    "    return (att-np.min(att))/(np.max(att)-np.min(att))"
   ]
  },
  {
   "cell_type": "markdown",
   "metadata": {},
   "source": [
    "### F-oneway ANOVA"
   ]
  },
  {
   "cell_type": "code",
   "execution_count": 12,
   "metadata": {},
   "outputs": [],
   "source": [
    "def get_att_maps(foldername, tname, class_l, att_f_name):\n",
    "    categories=['N','L','R','V','A','F','PN','P']\n",
    "    if tname==\"ph\":\n",
    "        # Loading data\n",
    "        test_y = np.load(\"./eval_data_10k/teset_y.npy\", allow_pickle=True)\n",
    "        # test_x = np.load(\"./eval_data_10k/teset_x.npy\", allow_pickle=True)\n",
    "        atts = []\n",
    "        for i in range(1,11):\n",
    "            atts.append(np.array([normalise_att(i) for i in np.load(\"./\"+att_f_name+\"/\"+foldername+\"/att\"+str(i)+\".npy\").squeeze()]))\n",
    "        indexes_for_class = [np.where(i==class_l) for i in test_y]#---\n",
    "        # class atts for each cv\n",
    "        atts_for_class = [atts[i][indexes_for_class[i][0]] for i in range(len(indexes_for_class))]\n",
    "        \n",
    "        \n",
    "        return f_oneway(atts_for_class[0], atts_for_class[1], atts_for_class[2], atts_for_class[3], atts_for_class[4], atts_for_class[5], atts_for_class[6], atts_for_class[7], atts_for_class[8], atts_for_class[9])[1].mean()\n",
    "    elif tname==\"pl\":\n",
    "        # Loading data\n",
    "        test_c0 = np.genfromtxt('./Data/test_patients_fc.csv', delimiter=',')\n",
    "        test_c1 = np.genfromtxt('./Data/test_patients_sc.csv', delimiter=',')\n",
    "        test_y_c01 = np.concatenate((test_c0[:, -2:], test_c1[:, -2:]), axis=1)\n",
    "        \n",
    "        atts = np.array([normalise_att(i) for i in np.load(\"./\"+att_f_name+\"/\"+foldername+\".npy\").squeeze()])\n",
    "        # Getting the indexes for the chosen class\n",
    "        indexes_for_class = np.where(test_y_c01==class_l)[0]\n",
    "        # Getting the attributions\n",
    "        atts_for_class = atts[indexes_for_class]\n",
    "        return atts_for_class"
   ]
  },
  {
   "cell_type": "code",
   "execution_count": 187,
   "metadata": {},
   "outputs": [],
   "source": [
    "# f_oneway_cnn = [get_att_maps(\"cnn_ph_eg\", \"ph\", i, \"eg_attributions\") for i in range(1,9)]\n",
    "# f_oneway_lstm = [get_att_maps(\"lstm_ph_eg\", \"ph\", i, \"eg_attributions\") for i in range(1,9)]"
   ]
  },
  {
   "cell_type": "markdown",
   "metadata": {},
   "source": [
    "### PL Metrics boxplot"
   ]
  },
  {
   "cell_type": "code",
   "execution_count": 13,
   "metadata": {},
   "outputs": [],
   "source": [
    "pl_metrics = np.array([svc_pl_r[:4], cnn_pl_r[:4], lstm_pl_r[:4], cnn_pl_eg_r[:4], lstm_pl_eg_r[:4]], dtype=np.float32).T"
   ]
  },
  {
   "cell_type": "code",
   "execution_count": 14,
   "metadata": {},
   "outputs": [
    {
     "data": {
      "text/plain": [
       "array([[0.798 , 0.753 , 0.631 , 0.81  , 0.655 ],\n",
       "       [0.411 , 0.407 , 0.381 , 0.446 , 0.386 ],\n",
       "       [0.458 , 0.42  , 0.337 , 0.472 , 0.309 ],\n",
       "       [0.606 , 0.567 , 0.4625, 0.619 , 0.467 ]], dtype=float32)"
      ]
     },
     "execution_count": 14,
     "metadata": {},
     "output_type": "execute_result"
    }
   ],
   "source": [
    "pl_metrics"
   ]
  },
  {
   "cell_type": "code",
   "execution_count": 15,
   "metadata": {},
   "outputs": [],
   "source": [
    "m = [\"Accuracy\", \"Precision\", \"Recall\", \"F1-score\"]"
   ]
  },
  {
   "cell_type": "code",
   "execution_count": 16,
   "metadata": {},
   "outputs": [],
   "source": [
    "pl_df = pd.DataFrame({\"Metric\":['A', 'A', 'A', 'A', 'A','P', 'P', 'P', 'P', 'P', 'R', 'R', 'R', 'R', 'R', 'F', 'F', 'F', 'F', 'F'], \"Value\":[0.798 , 0.753 , 0.631 , 0.81  , 0.655, 0.411 , 0.407 , 0.381 , 0.446 , 0.386, 0.458 , 0.42  , 0.337 , 0.472 , 0.309, 0.606 , 0.567 , 0.4625, 0.619 , 0.467]})\n"
   ]
  },
  {
   "cell_type": "code",
   "execution_count": 17,
   "metadata": {},
   "outputs": [
    {
     "data": {
      "image/png": "[encoded data removed]",
      "text/plain": [
       "<Figure size 432x288 with 1 Axes>"
      ]
     },
     "metadata": {},
     "output_type": "display_data"
    }
   ],
   "source": [
    "sns.set_theme(style=\"whitegrid\")\n",
    "ax = sns.boxplot(x=\"Metric\", y=\"Value\", data=pl_df)\n",
    "\n",
    "plt.xticks([0,1,2,3], m)\n",
    "plt.xlabel(\"Metrics\")\n",
    "plt.title(\"Performance box plot of metrics for all models\", fontsize=15)\n",
    "# plt.savefig(\"./images/pl_metrics_boxplot\",dpi=300)\n",
    "plt.show()"
   ]
  },
  {
   "cell_type": "code",
   "execution_count": null,
   "metadata": {},
   "outputs": [],
   "source": [
    "svc_ph_r = get_results(foldername=\"svc_ph\", tname=\"ph\").T\n",
    "svc_ph_r[3:] = svc_ph_r[3:].mean(axis=0)\n",
    "cnn_ph_r = get_results(foldername=\"cnn_ph\", tname=\"ph\").T\n",
    "cnn_ph_r[3:] = cnn_ph_r[3:].mean(axis=0)\n",
    "lstm_ph_r = get_results(foldername=\"lstm_ph\", tname=\"ph\").T\n",
    "lstm_ph_r[3:] = lstm_ph_r[3:].mean(axis=0)\n",
    "cnn_ph_eg_r = get_results(foldername=\"cnn_ph_eg\", tname=\"ph\").T\n",
    "cnn_ph_eg_r[3:] = cnn_ph_eg_r[3:].mean(axis=0)\n",
    "lstm_ph_eg_r = get_results(foldername=\"lstm_ph_eg\", tname=\"ph\").T\n",
    "lstm_ph_eg_r[3:] = lstm_ph_eg_r[3:].mean(axis=0)\n",
    "a = [svc_ph_r, cnn_ph_r, lstm_ph_r, cnn_ph_eg_r, lstm_ph_eg_r]"
   ]
  },
  {
   "cell_type": "code",
   "execution_count": null,
   "metadata": {},
   "outputs": [],
   "source": [
    "metrics = np.array([])\n",
    "values = np.array([])\n",
    "for i in a:\n",
    "    for inx, s in enumerate([\"A\", \"P\", \"R\", \"F\"]):\n",
    "        metrics = np.concatenate((metrics,np.full((10), s)), axis=0)\n",
    "        values = np.concatenate((values,i[inx]), axis=0)"
   ]
  },
  {
   "cell_type": "code",
   "execution_count": null,
   "metadata": {},
   "outputs": [],
   "source": [
    "ph_df = pd.DataFrame({\"Metric\":metrics, \"Value\":values})"
   ]
  },
  {
   "cell_type": "code",
   "execution_count": null,
   "metadata": {},
   "outputs": [],
   "source": [
    "sns.set_theme(style=\"whitegrid\")\n",
    "ax = sns.boxplot(x=\"Metric\", y=\"Value\", data=ph_df)\n",
    "# plt.style.use('seaborn')\n",
    "plt.xticks([0,1,2,3], m)\n",
    "plt.xlabel(\"Metric\")\n",
    "plt.title(\"Performance box plot of metrics for all models across 10k CV\", fontsize=15)\n",
    "plt.savefig(\"./images/ph_metrics_boxplot\",dpi=300)\n",
    "plt.show()"
   ]
  },
  {
   "cell_type": "markdown",
   "metadata": {},
   "source": [
    "### F-oneway ANOVA PL"
   ]
  },
  {
   "cell_type": "code",
   "execution_count": 38,
   "metadata": {},
   "outputs": [],
   "source": [
    "pl_anova = [f_oneway(get_att_maps(\"cnn_pl_eg\", \"pl\", i, \"eg_attributions\"), get_att_maps(\"lstm_pl_eg\", \"pl\", i, \"eg_attributions\"))[1].mean() for i in [1,2,3,4,5,8]]"
   ]
  }
 ],
 "metadata": {
  "interpreter": {
   "hash": "3ad3a160dbec8171a4c5fb2605380c0e08a4026dd895b943cd2f051981903870"
  },
  "kernelspec": {
   "display_name": "Python 3.8.10 ('ecg')",
   "language": "python",
   "name": "python3"
  },
  "language_info": {
   "codemirror_mode": {
    "name": "ipython",
    "version": 3
   },
   "file_extension": ".py",
   "mimetype": "text/x-python",
   "name": "python",
   "nbconvert_exporter": "python",
   "pygments_lexer": "ipython3",
   "version": "3.8.10"
  },
  "orig_nbformat": 4
 },
 "nbformat": 4,
 "nbformat_minor": 2
}
