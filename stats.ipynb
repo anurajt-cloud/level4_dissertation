{
 "cells": [
  {
   "cell_type": "code",
   "execution_count": 51,
   "metadata": {},
   "outputs": [],
   "source": [
    "import numpy as np\n",
    "from scipy.stats import *\n",
    "import matplotlib.pyplot as plt\n",
    "import seaborn as sns"
   ]
  },
  {
   "cell_type": "code",
   "execution_count": 4,
   "metadata": {},
   "outputs": [],
   "source": [
    "path = \"./eval_data_10k/\""
   ]
  },
  {
   "cell_type": "code",
   "execution_count": 3,
   "metadata": {},
   "outputs": [],
   "source": [
    "def get_results(foldername, tname):\n",
    "    if tname == \"ph\":\n",
    "        results = []\n",
    "        for i in range(1,11):\n",
    "            results.append(np.load(path+foldername+\"/results_cv\"+str(i)+\".npy\", allow_pickle=True)[1:6])\n",
    "        return np.stack(tuple(results))\n",
    "    elif tname == \"pl\":\n",
    "        return np.load(path+foldername+\"/results.npy\", allow_pickle=True)[0][1:6]\n"
   ]
  },
  {
   "cell_type": "markdown",
   "metadata": {},
   "source": [
    "### Kruskal Test"
   ]
  },
  {
   "cell_type": "code",
   "execution_count": 18,
   "metadata": {},
   "outputs": [],
   "source": [
    "svc_ph_r = get_results(foldername=\"svc_ph\", tname=\"ph\").T\n",
    "cnn_ph_r = get_results(foldername=\"cnn_ph\", tname=\"ph\").T\n",
    "lstm_ph_r = get_results(foldername=\"lstm_ph\", tname=\"ph\").T\n",
    "cnn_ph_eg_r = get_results(foldername=\"cnn_ph_eg\", tname=\"ph\").T\n",
    "lstm_ph_eg_r = get_results(foldername=\"lstm_ph_eg\", tname=\"ph\").T\n",
    "svc_ph_r[3:]= svc_ph_r[3:].mean(axis=0)\n",
    "cnn_ph_r[3:]= cnn_ph_r[3:].mean(axis=0)\n",
    "lstm_ph_r[3:]= lstm_ph_r[3:].mean(axis=0)\n",
    "cnn_ph_eg_r[3:]= cnn_ph_eg_r[3:].mean(axis=0)\n",
    "lstm_ph_eg_r[3:]= lstm_ph_eg_r[3:].mean(axis=0)"
   ]
  },
  {
   "cell_type": "code",
   "execution_count": 24,
   "metadata": {},
   "outputs": [],
   "source": [
    "kh_test = kruskal(svc_ph_r[:4], cnn_ph_r[:4], lstm_ph_r[:4], cnn_ph_eg_r[:4], lstm_ph_eg_r[:4], axis=1) "
   ]
  },
  {
   "cell_type": "code",
   "execution_count": 28,
   "metadata": {},
   "outputs": [
    {
     "name": "stdout",
     "output_type": "stream",
     "text": [
      "[43.9   43.934 35.958 43.759]\n",
      "[6.72967059e-09 6.62000512e-09 2.95191541e-07 7.19798360e-09]\n"
     ]
    }
   ],
   "source": [
    "print(np.around(kh_test[0], decimals=3))\n",
    "print(kh_test[1])"
   ]
  },
  {
   "cell_type": "code",
   "execution_count": 189,
   "metadata": {},
   "outputs": [],
   "source": [
    "svc_pl_r = get_results(foldername=\"svc_pl\", tname=\"pl\").T\n",
    "cnn_pl_r = get_results(foldername=\"cnn_pl\", tname=\"pl\").T\n",
    "lstm_pl_r = get_results(foldername=\"lstm_pl\", tname=\"pl\").T\n",
    "cnn_pl_eg_r = get_results(foldername=\"cnn_pl_eg\", tname=\"pl\").T\n",
    "lstm_pl_eg_r = get_results(foldername=\"lstm_pl_eg\", tname=\"pl\").T\n",
    "svc_pl_r[3:]= svc_pl_r[3:].mean(axis=0)\n",
    "cnn_pl_r[3:]= cnn_pl_r[3:].mean(axis=0)\n",
    "lstm_pl_r[3:]= lstm_pl_r[3:].mean(axis=0)\n",
    "cnn_pl_eg_r[3:]= cnn_pl_eg_r[3:].mean(axis=0)\n",
    "lstm_pl_eg_r[3:]= lstm_pl_eg_r[3:].mean(axis=0)"
   ]
  },
  {
   "cell_type": "code",
   "execution_count": 190,
   "metadata": {},
   "outputs": [],
   "source": [
    "kh_test_pl = kruskal(svc_pl_r[:4], cnn_pl_r[:4], lstm_pl_r[:4], cnn_pl_eg_r[:4], lstm_pl_eg_r[:4], axis=1) "
   ]
  },
  {
   "cell_type": "code",
   "execution_count": 191,
   "metadata": {},
   "outputs": [
    {
     "data": {
      "text/plain": [
       "KruskalResult(statistic=2.914285714285711, pvalue=0.5722704284139049)"
      ]
     },
     "execution_count": 191,
     "metadata": {},
     "output_type": "execute_result"
    }
   ],
   "source": [
    "kh_test_pl"
   ]
  },
  {
   "cell_type": "markdown",
   "metadata": {},
   "source": [
    "### Wilcoxon Test"
   ]
  },
  {
   "cell_type": "code",
   "execution_count": 47,
   "metadata": {},
   "outputs": [],
   "source": [
    "def wil_test(a):\n",
    "    wil_test_results = []\n",
    "    for i,v in enumerate(a):\n",
    "        wt = []\n",
    "        for k,l in enumerate(a):\n",
    "            wt.append(wilcoxon(v, l, zero_method='zsplit')[1])\n",
    "        wil_test_results.append(wt)\n",
    "    return np.array(wil_test_results, dtype=np.float32)"
   ]
  },
  {
   "cell_type": "code",
   "execution_count": 123,
   "metadata": {},
   "outputs": [],
   "source": [
    "# will_test_cnn_lstm_acc = wil_test([cnn_ph_r[0],lstm_ph_r[0], cnn_ph_eg_r[0], lstm_ph_eg_r[0]])\n",
    "# categories=['CNN','LSTM','CNN_EG','LSTM_EG']\n",
    "# plt.figure(figsize=(10,7), dpi=300)\n",
    "# g = sns.heatmap(will_test_cnn_lstm_acc, annot=True, annot_kws={\"fontsize\":20})\n",
    "# g.set_xticklabels(categories, fontsize=17)\n",
    "# g.set_yticklabels(categories, fontsize=17)\n",
    "# plt.title(\"Wilcoxon Test - Accuracy\")\n",
    "# plt.savefig(\"./images/ph_wil_test_acc\",dpi=300)\n",
    "# plt.show()"
   ]
  },
  {
   "cell_type": "code",
   "execution_count": 122,
   "metadata": {},
   "outputs": [],
   "source": [
    "# will_test_cnn_lstm_f1 = wil_test([cnn_ph_r[3],lstm_ph_r[3], cnn_ph_eg_r[3], lstm_ph_eg_r[3]])\n",
    "# categories=['CNN','LSTM','CNN_EG','LSTM_EG']\n",
    "# plt.figure(figsize=(10,7), dpi=300)\n",
    "# g = sns.heatmap(will_test_cnn_lstm_f1, annot=True, annot_kws={\"fontsize\":20})\n",
    "# g.set_xticklabels(categories, fontsize=17)\n",
    "# g.set_yticklabels(categories, fontsize=17)\n",
    "# plt.title(\"Wilcoxon Test - F1_Score\")\n",
    "# plt.savefig(\"./images/ph_wil_test_f1\",dpi=300)\n",
    "# plt.show()"
   ]
  },
  {
   "cell_type": "code",
   "execution_count": 121,
   "metadata": {},
   "outputs": [],
   "source": [
    "# will_test_cnn_lstm_prec = wil_test([cnn_ph_r[1],lstm_ph_r[1], cnn_ph_eg_r[1], lstm_ph_eg_r[1]])\n",
    "# categories=['CNN','LSTM','CNN_EG','LSTM_EG']\n",
    "# plt.figure(figsize=(10,7), dpi=300)\n",
    "# g = sns.heatmap(will_test_cnn_lstm_prec, annot=True, annot_kws={\"fontsize\":20})\n",
    "# g.set_xticklabels(categories, fontsize=17)\n",
    "# g.set_yticklabels(categories, fontsize=17)\n",
    "# plt.title(\"Wilcoxon Test - Precision\")\n",
    "# plt.savefig(\"./images/ph_wil_test_prec\",dpi=300)\n",
    "# plt.show()"
   ]
  },
  {
   "cell_type": "code",
   "execution_count": 124,
   "metadata": {},
   "outputs": [],
   "source": [
    "will_test_cnn_lstm_rec = wil_test([cnn_ph_r[2],lstm_ph_r[2], cnn_ph_eg_r[2], lstm_ph_eg_r[2]])\n",
    "# categories=['CNN','LSTM','CNN_EG','LSTM_EG']\n",
    "# plt.figure(figsize=(10,7), dpi=300)\n",
    "# g = sns.heatmap(will_test_cnn_lstm_rec, annot=True, annot_kws={\"fontsize\":20})\n",
    "# g.set_xticklabels(categories, fontsize=17)\n",
    "# g.set_yticklabels(categories, fontsize=17)\n",
    "# plt.title(\"Wilcoxon Test - Recall\")\n",
    "# plt.savefig(\"./images/ph_wil_test_rec\",dpi=300)\n",
    "# plt.show()"
   ]
  },
  {
   "cell_type": "code",
   "execution_count": 126,
   "metadata": {},
   "outputs": [],
   "source": [
    "def normalise_att(att):\n",
    "    return (att-np.min(att))/(np.max(att)-np.min(att))"
   ]
  },
  {
   "cell_type": "code",
   "execution_count": 186,
   "metadata": {},
   "outputs": [],
   "source": [
    "def get_att_maps(foldername, tname, class_l, att_f_name):\n",
    "    categories=['N','L','R','V','A','F','PN','P']\n",
    "    if tname==\"ph\":\n",
    "        # Loading data\n",
    "        test_y = np.load(\"./eval_data_10k/teset_y.npy\", allow_pickle=True)\n",
    "        # test_x = np.load(\"./eval_data_10k/teset_x.npy\", allow_pickle=True)\n",
    "        atts = []\n",
    "        for i in range(1,11):\n",
    "            atts.append(np.array([normalise_att(i) for i in np.load(\"./\"+att_f_name+\"/\"+foldername+\"/att\"+str(i)+\".npy\").squeeze()]))\n",
    "        indexes_for_class = [np.where(i==class_l) for i in test_y]#---\n",
    "        # class atts for each cv\n",
    "        atts_for_class = [atts[i][indexes_for_class[i][0]] for i in range(len(indexes_for_class))]\n",
    "        \n",
    "        \n",
    "        return f_oneway(atts_for_class[0], atts_for_class[1], atts_for_class[2], atts_for_class[3], atts_for_class[4], atts_for_class[5], atts_for_class[6], atts_for_class[7], atts_for_class[8], atts_for_class[9])[1].mean()\n",
    "    elif tname==\"pl\":\n",
    "        # Loading data\n",
    "        test_c0 = np.genfromtxt('./Data/test_patients_fc.csv', delimiter=',')\n",
    "        test_c1 = np.genfromtxt('./Data/test_patients_sc.csv', delimiter=',')\n",
    "        test_y_c01 = np.concatenate((test_c0[:, -2:], test_c1[:, -2:]), axis=1)\n",
    "        \n",
    "        atts = np.array([normalise_att(i) for i in np.load(\"./\"+att_f_name+\"/\"+foldername+\".npy\").squeeze()])\n",
    "        # Getting the indexes for the chosen class\n",
    "        indexes_for_class = np.where(test_y_c01==class_l)[0]\n",
    "        # Getting the attributions\n",
    "        atts_for_class = atts[indexes_for_class]"
   ]
  },
  {
   "cell_type": "code",
   "execution_count": 187,
   "metadata": {},
   "outputs": [],
   "source": [
    "f_oneway_cnn = [get_att_maps(\"cnn_ph_eg\", \"ph\", i, \"eg_attributions\") for i in range(1,9)]\n",
    "# f_oneway_lstm = [get_att_maps(\"lstm_ph_eg\", \"ph\", i, \"eg_attributions\") for i in range(1,9)]"
   ]
  },
  {
   "cell_type": "code",
   "execution_count": 188,
   "metadata": {},
   "outputs": [
    {
     "data": {
      "text/plain": [
       "[0.08224012493686582,\n",
       " 0.25522734707008526,\n",
       " 0.27312165073651007,\n",
       " 4.357536946512758e-08,\n",
       " 0.0324250110286493,\n",
       " 0.04192126295147478,\n",
       " 0.0003610022656427034,\n",
       " 0.007695536625483854]"
      ]
     },
     "execution_count": 188,
     "metadata": {},
     "output_type": "execute_result"
    }
   ],
   "source": [
    "f_oneway_cnn"
   ]
  },
  {
   "cell_type": "code",
   "execution_count": null,
   "metadata": {},
   "outputs": [],
   "source": []
  }
 ],
 "metadata": {
  "interpreter": {
   "hash": "3ad3a160dbec8171a4c5fb2605380c0e08a4026dd895b943cd2f051981903870"
  },
  "kernelspec": {
   "display_name": "Python 3.8.10 ('ecg')",
   "language": "python",
   "name": "python3"
  },
  "language_info": {
   "codemirror_mode": {
    "name": "ipython",
    "version": 3
   },
   "file_extension": ".py",
   "mimetype": "text/x-python",
   "name": "python",
   "nbconvert_exporter": "python",
   "pygments_lexer": "ipython3",
   "version": "3.8.10"
  },
  "orig_nbformat": 4
 },
 "nbformat": 4,
 "nbformat_minor": 2
}
